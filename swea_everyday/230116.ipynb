{
 "cells": [
  {
   "cell_type": "code",
   "execution_count": 1,
   "id": "1970a0c5",
   "metadata": {},
   "outputs": [
    {
     "name": "stdout",
     "output_type": "stream",
     "text": [
      "c:\\python_project\\test\n"
     ]
    }
   ],
   "source": [
    "# 데일리실습 1-1. 문자열 이스케이프 활용 폴더명 출력하기 예제\n",
    "print(\"c:\\\\python_project\\\\test\")"
   ]
  },
  {
   "cell_type": "code",
   "execution_count": 7,
   "id": "cab30d51",
   "metadata": {},
   "outputs": [
    {
     "name": "stdout",
     "output_type": "stream",
     "text": [
      "게시글의 총 갯수를 입력하세요 : 30\n",
      "한 페이지에 필요한 게시글 수를 입력하세요 : 6\n",
      "5\n"
     ]
    }
   ],
   "source": [
    "# 데일리실습 1-2. 게시판의 페이지 수 구하기 예제\n",
    "total = int(input().split(' : ')[1])\n",
    "num_per_page = int(input().split(' : ')[1])\n",
    "print(int(total/num_per_page))\n"
   ]
  },
  {
   "cell_type": "code",
   "execution_count": null,
   "id": "6f4c3a9c",
   "metadata": {},
   "outputs": [],
   "source": [
    "# 데일리실습 1-3. 문자열 메소드 활용 및 특정 문자 삭제 예제\n",
    "person1 = input(\"첫 번째 사람의 이름을 입력하시오: \")\n",
    "person2 = input(\"두 번째 사람의 이름을 입력하시오: \")\n",
    "print(person1 + '\\n\\n\\n' + person2)\n"
   ]
  },
  {
   "cell_type": "code",
   "execution_count": 3,
   "id": "c43eb281",
   "metadata": {},
   "outputs": [
    {
     "name": "stdout",
     "output_type": "stream",
     "text": [
      "284787\n"
     ]
    }
   ],
   "source": [
    "\n",
    "# 데일리실습 1-4. 특정 수의 배수 찾기 예제\n",
    "list = []\n",
    "for i in range(1, 1000):\n",
    "    if (i % 2 ==0) or (i % 7 ==0):\n",
    "        list.append(i)\n",
    "print(sum(list))"
   ]
  },
  {
   "cell_type": "code",
   "execution_count": 4,
   "id": "9a41aa1c",
   "metadata": {},
   "outputs": [
    {
     "name": "stdout",
     "output_type": "stream",
     "text": [
      "****\n",
      "****\n",
      "****\n",
      "****\n",
      "****\n"
     ]
    }
   ],
   "source": [
    "# 데일리실습 1-5. 튜플의 특징과 문자열 반복에 대한 예제\n",
    "m = 5\n",
    "n = 4\n",
    "for _ in range(m):\n",
    "    print('*'*n)"
   ]
  },
  {
   "cell_type": "code",
   "execution_count": 5,
   "id": "afbd573e",
   "metadata": {},
   "outputs": [
    {
     "name": "stdout",
     "output_type": "stream",
     "text": [
      "86.75\n"
     ]
    }
   ],
   "source": [
    "# 데일리과제 1-2. 평균 성적 구하기\n",
    "score = {\n",
    "    'python': 85,\n",
    "    'django': 89,\n",
    "    'web': 83,\n",
    "    'algorithm' : 90\n",
    "}\n",
    "print(sum(score.values())/len(score))"
   ]
  },
  {
   "cell_type": "code",
   "execution_count": 6,
   "id": "9a8a1740",
   "metadata": {},
   "outputs": [
    {
     "name": "stdout",
     "output_type": "stream",
     "text": [
      "숫자를 입력해주세요 : 142\n",
      "7\n"
     ]
    }
   ],
   "source": [
    "# 데일리과제 1-4. 자릿수 출력 예제\n",
    "s = input('숫자를 입력해주세요 : ')\n",
    "num_list = []\n",
    "for i in range(len(s)):\n",
    "    num_list.append(int(s[i]))\n",
    "print(sum(num_list))"
   ]
  },
  {
   "cell_type": "code",
   "execution_count": null,
   "id": "ee88d757",
   "metadata": {},
   "outputs": [],
   "source": []
  }
 ],
 "metadata": {
  "kernelspec": {
   "display_name": "Python 3.9.13 64-bit",
   "language": "python",
   "name": "python3"
  },
  "language_info": {
   "codemirror_mode": {
    "name": "ipython",
    "version": 3
   },
   "file_extension": ".py",
   "mimetype": "text/x-python",
   "name": "python",
   "nbconvert_exporter": "python",
   "pygments_lexer": "ipython3",
   "version": "3.9.13"
  },
  "vscode": {
   "interpreter": {
    "hash": "c4b9ebf4ca459396e2ad1150752490c26670c1a037c08cad955a4425787bec2e"
   }
  }
 },
 "nbformat": 4,
 "nbformat_minor": 5
}
